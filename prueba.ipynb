{
 "cells": [
  {
   "cell_type": "code",
   "execution_count": 51,
   "metadata": {},
   "outputs": [],
   "source": [
    "import pandas as pd\n",
    "import ast\n",
    "from fastapi import FastAPI\n",
    "import json\n",
    "import fastparquet\n",
    "\n",
    "#rows=[]\n",
    "#with open('steam_games.json', encoding='utf-8-sig') as f:\n",
    " #   for line in f.readlines():\n",
    "  #    rows.append(ast.literal_eval(line))\n",
    "\n",
    "#df=pd.DataFrame(rows)\n",
    "\n",
    "app = FastAPI()"
   ]
  },
  {
   "cell_type": "code",
   "execution_count": 77,
   "metadata": {},
   "outputs": [],
   "source": [
    "# Lee el archivo Parquet y crea un objeto DataFrame\n",
    "df = fastparquet.ParquetFile('steam_games.parquet').to_pandas()\n",
    "\n",
    "# Función para obtener los géneros más vendidos\n",
    "@app.get(\"/genero/\")\n",
    "def genero(anio: int):\n",
    "    df_filtrado = df[df['release_date'] == anio]\n",
    "    if df_filtrado.empty:\n",
    "        return {\"!\": f\"No hay datos disponibles para el año {anio}\"}\n",
    "    \n",
    "    generos_count = {}\n",
    "    for lista_generos in df_filtrado['genres']:\n",
    "        if lista_generos is not None:\n",
    "            for genero_juego in lista_generos:\n",
    "                if genero_juego is not None:\n",
    "                    generos_count[genero_juego] = generos_count.get(genero_juego, 0) + 1\n",
    "    \n",
    "    generos_top = dict(sorted(generos_count.items(), key=lambda item: item[1], reverse=True)[:5])\n",
    "    return generos_top\n"
   ]
  },
  {
   "cell_type": "code",
   "execution_count": 93,
   "metadata": {},
   "outputs": [
    {
     "data": {
      "text/plain": [
       "{'Action': 2, 'Adventure': 2, 'Indie': 2, 'RPG': 2, 'Strategy': 1}"
      ]
     },
     "execution_count": 93,
     "metadata": {},
     "output_type": "execute_result"
    }
   ],
   "source": [
    "genero(2019)"
   ]
  },
  {
   "cell_type": "code",
   "execution_count": 95,
   "metadata": {},
   "outputs": [],
   "source": [
    "# Función para obtener los juegos lanzados en un año\n",
    "@app.get(\"/juegos/\")\n",
    "def juegos(anio: int):\n",
    "   # Filtrar el DataFrame por el año deseado\n",
    "    df_filtrado = df[df['release_date'] == anio]\n",
    "    if df_filtrado.empty:\n",
    "        return {\"!\": f\"No hay datos disponibles para el año {anio}\"}\n",
    "    \n",
    "    return df_filtrado[\"title\"].unique()"
   ]
  },
  {
   "cell_type": "code",
   "execution_count": 98,
   "metadata": {},
   "outputs": [],
   "source": [
    "df_filtrado = df[df['release_date'] == 2015]"
   ]
  },
  {
   "cell_type": "code",
   "execution_count": 99,
   "metadata": {},
   "outputs": [
    {
     "data": {
      "text/plain": [
       "1550                                Assault Android Cactus\n",
       "1559                       America's Army: Proving Grounds\n",
       "2488                                             The Tower\n",
       "2999           Dimmdrive :: Gaming Ramdrive @ 10,000+ MB/s\n",
       "3001                                          Fake Colours\n",
       "                               ...                        \n",
       "27701    Rocksmith® 2014 – Linkin Park - “One Step Closer”\n",
       "28418                                         Stained Demo\n",
       "28492                                              Sentris\n",
       "28630                                         Pixel Piracy\n",
       "29051                                  RUNNING WITH RIFLES\n",
       "Name: title, Length: 4945, dtype: object"
      ]
     },
     "execution_count": 99,
     "metadata": {},
     "output_type": "execute_result"
    }
   ],
   "source": [
    "df_filtrado['title']"
   ]
  },
  {
   "cell_type": "code",
   "execution_count": 96,
   "metadata": {},
   "outputs": [
    {
     "data": {
      "text/plain": [
       "array(['RIFT', 'Trine 2: Complete Story',\n",
       "       'Angelica Weaver: Catch Me When You Can', ..., 'Droid Assault',\n",
       "       'Worms Ultimate Mayhem - Customization Pack DLC',\n",
       "       'Train Simulator: Doncaster Works Route Add-On'], dtype=object)"
      ]
     },
     "execution_count": 96,
     "metadata": {},
     "output_type": "execute_result"
    }
   ],
   "source": [
    "juegos(2013)"
   ]
  },
  {
   "cell_type": "code",
   "execution_count": 89,
   "metadata": {},
   "outputs": [
    {
     "data": {
      "text/plain": [
       "array(['Lost Summoner Kitty', 'Ironbound', 'Battle Royale Trainer',\n",
       "       'SNOW - All Access Basic Pass', 'SNOW - All Access Pro Pass',\n",
       "       'SNOW - All Access Legend Pass', 'Race',\n",
       "       'Army of Tentacles: (Not) A Cthulhu Dating Sim: Black GOAT of the Woods Edition',\n",
       "       'Beach Rules', 'Planetarium 2 - Zen Odyssey',\n",
       "       'The first thrust of God', 'SNOW - Starter Pack',\n",
       "       'The first thrust of God - All Aircrafts', 'SNOW - Lifetime Pack',\n",
       "       'The Warrior Of Treasures', 'DinoBlaster',\n",
       "       'Robotpencil Presents: Understanding 3D for Concept',\n",
       "       'Lost Cities', 'Twisted Enhanced Edition', 'Vaporwave Simulator',\n",
       "       'Tactics Forever', 'Underdone - Soundtrack', 'Bitcoin Clicker',\n",
       "       'Darkness and a Crowd', 'Shotgun Legend', 'My Time At Portia',\n",
       "       'Watch Me Jump', 'Epic Cards Battle 2-Dragons Rising(TCG)',\n",
       "       'HORDE ATTACK', 'MagiCat Original Soundtrack', 'Dark Devotion',\n",
       "       'INTERSTELLAR PRIME', 'Reality Incognita', 'Island Build Masters',\n",
       "       'A Near Dawn', 'Fresh Body: Original Soundtrack', \"Devil's Land\",\n",
       "       'Nightshade Additional Scenarios', \"The Mind's Eclipse\",\n",
       "       'Welcome to Orochi Park', 'Treadnauts', 'Bound To Light',\n",
       "       'Regions Of Ruin', 'The Last Mission', '初颜 - The Prototype',\n",
       "       'Arctic Adventure: Episodes', 'Fatal Twelve',\n",
       "       'Tap Adventure: Time Travel - Promo Pack', 'INTRUDER - WAR AREAS',\n",
       "       'LEGRAND LEGACY: Tale of the Fatebounds', 'Diesel Guns',\n",
       "       'Albino Lullaby: Episode 3', \"Alice's Lullaby: Episode 2\",\n",
       "       'Empires Of Creation', 'Divinia Chronicles: Relics of Gan-Ti',\n",
       "       'Lost Moon', 'Starwalker', 'Bloodworks', 'Legacy of Medieval',\n",
       "       'NARK THE DRAGON', 'Super Bugman Extreme Ultra',\n",
       "       'Comit the Astrodian 3', 'Platform Golf', 'Witchball',\n",
       "       'Christmas Tale - Visual Novel', 'Mesozoica',\n",
       "       'Street Legal Racing: Redline - High Quality Cars Pack', 'BASIC8',\n",
       "       'Rheksetor: Waves of Fury', 'Prison Bomber', 'Cartoon Hero',\n",
       "       'SCP-087: Recovered document', 'Boomer Rampage',\n",
       "       'PLAYERUNKN4WN: Zombie', 'TileDynasty FPS Arena',\n",
       "       'Ender Story: Chapter 1', 'Casino Slot Machines - The Spring',\n",
       "       'BlockShip Wars: Roguelike', 'PearsAndGrayWitch', 'Infinos Gaiden',\n",
       "       '忍者村大战2', 'High School Simulator', 'NeoBalls',\n",
       "       'Robotpencil Presents: Exercise: Brushwork',\n",
       "       'Robotpencil Presents: Creative Composition',\n",
       "       'Kalen Chock Presents: 2017 Free Tutorial',\n",
       "       'Agent X: Equation Rider', 'Snail Trek - Chapter 3: Lettuce Be',\n",
       "       'The spy who shot me™', 'Raining blocks', 'Bravium', 'BAE 2',\n",
       "       'Kebab it Up!', 'Colony On Mars', 'LOGistICAL: South Africa',\n",
       "       'Russian Roads'], dtype=object)"
      ]
     },
     "execution_count": 89,
     "metadata": {},
     "output_type": "execute_result"
    }
   ],
   "source": [
    "juegos(2018)"
   ]
  },
  {
   "cell_type": "code",
   "execution_count": 80,
   "metadata": {},
   "outputs": [],
   "source": [
    "# Función para obtener los specs más repetidos\n",
    "@app.get(\"/specs/\")\n",
    "def specs(anio: int):\n",
    "    df_filtrado = df[df['release_date'] == anio]\n",
    "    if df_filtrado.empty:\n",
    "        return {\"!\": f\"No hay datos disponibles para el año {anio}\"}\n",
    "    \n",
    "    specs_count = {}\n",
    "    for lista_specs in df_filtrado['specs']:\n",
    "        if lista_specs is not None:\n",
    "            for spec in lista_specs:\n",
    "                specs_count[spec] = specs_count.get(spec, 0) + 1\n",
    "    \n",
    "    top_specs = dict(sorted(specs_count.items(), key=lambda item: item[1], reverse=True)[:5])\n",
    "    return {\"top_specs\": list(top_specs.keys())}\n"
   ]
  },
  {
   "cell_type": "code",
   "execution_count": 83,
   "metadata": {},
   "outputs": [
    {
     "data": {
      "text/plain": [
       "{'top_specs': ['Single-player',\n",
       "  'Steam Achievements',\n",
       "  'Full controller support',\n",
       "  'Steam Cloud']}"
      ]
     },
     "execution_count": 83,
     "metadata": {},
     "output_type": "execute_result"
    }
   ],
   "source": [
    "specs(2019)"
   ]
  },
  {
   "cell_type": "code",
   "execution_count": 58,
   "metadata": {},
   "outputs": [],
   "source": [
    "# Función para obtener la cantidad de juegos lanzados en un año con early access\n",
    "@app.get(\"/earlyacces/\")\n",
    "def earlyacces(anio: int):\n",
    "    df_filtrado = df[df['release_date'] == anio]\n",
    "    if df_filtrado.empty:\n",
    "        return {\"!\": f\"No hay datos disponibles para el año {anio}\"}\n",
    "    frecuencias=df_filtrado[\"early_access\"].sum()\n",
    "    \n",
    "    return frecuencias"
   ]
  },
  {
   "cell_type": "code",
   "execution_count": 59,
   "metadata": {},
   "outputs": [
    {
     "data": {
      "text/plain": [
       "0"
      ]
     },
     "execution_count": 59,
     "metadata": {},
     "output_type": "execute_result"
    }
   ],
   "source": [
    "earlyacces(1999)"
   ]
  },
  {
   "cell_type": "code",
   "execution_count": 60,
   "metadata": {},
   "outputs": [],
   "source": [
    "# Función para obtener el análisis de sentimiento\n",
    "\n",
    "@app.get(\"/sentiment/\")\n",
    "def sentiment(anio: int):\n",
    "    df_filtrado = df[df['release_date'] == anio]\n",
    "    if df_filtrado.empty:\n",
    "        return {\"!\": f\"No hay datos disponibles para el año {anio}\"}\n",
    "    frecuencia=df_filtrado[\"sentiment\"].value_counts().to_dict()\n",
    "    return frecuencia\n"
   ]
  },
  {
   "cell_type": "code",
   "execution_count": 61,
   "metadata": {},
   "outputs": [
    {
     "data": {
      "text/plain": [
       "{'sin_calificar': 1556,\n",
       " 'Mixed': 938,\n",
       " 'Very Positive': 766,\n",
       " 'Positive': 695,\n",
       " 'Mostly Positive': 562,\n",
       " '1 user reviews': 512,\n",
       " '2 user reviews': 364,\n",
       " '3 user reviews': 277,\n",
       " '4 user reviews': 219,\n",
       " 'Mostly Negative': 215,\n",
       " '5 user reviews': 199,\n",
       " '6 user reviews': 168,\n",
       " '7 user reviews': 158,\n",
       " '8 user reviews': 118,\n",
       " '9 user reviews': 108,\n",
       " 'Overwhelmingly Positive': 49,\n",
       " 'Negative': 23,\n",
       " 'Very Negative': 5,\n",
       " 'Overwhelmingly Negative': 1}"
      ]
     },
     "execution_count": 61,
     "metadata": {},
     "output_type": "execute_result"
    }
   ],
   "source": [
    "sentiment(2016)"
   ]
  },
  {
   "cell_type": "code",
   "execution_count": 62,
   "metadata": {},
   "outputs": [],
   "source": [
    "# Función para obtener los juegos top 5 con mayor metascore\n",
    "@app.get(\"/metascore/\")\n",
    "def metascore(anio: int):\n",
    "    # Filtrar el DataFrame por el año proporcionado\n",
    "    df_anio = df[df[\"release_date\"]== anio]\n",
    "\n",
    "    # Eliminar duplicados basados en la columna \"title\"\n",
    "    juegos_unicos = df_anio.drop_duplicates(subset=\"title\")\n",
    "\n",
    "    # Ordenar los juegos únicos por Metascore de manera descendente\n",
    "    juegos_ordenados = juegos_unicos.sort_values(by=\"metascore\", ascending=False)\n",
    "\n",
    "    # Tomar los 5 juegos top con los Metascores más altos\n",
    "    top_juegos = juegos_ordenados.head(5)\n",
    "\n",
    "    # Crear una lista de diccionarios con la información de los juegos top\n",
    "    juegos_top = top_juegos[[\"title\", \"metascore\"]].to_dict(orient=\"records\")\n",
    "\n",
    "    return juegos_top"
   ]
  },
  {
   "cell_type": "code",
   "execution_count": 63,
   "metadata": {},
   "outputs": [
    {
     "data": {
      "text/plain": [
       "[{'title': 'Raji: An Ancient Epic', 'metascore': nan},\n",
       " {'title': 'The Legendary Player - Make Your Reputation - OPEN BETA',\n",
       "  'metascore': nan},\n",
       " {'title': 'The End of an Age: Fading Remnants', 'metascore': nan}]"
      ]
     },
     "execution_count": 63,
     "metadata": {},
     "output_type": "execute_result"
    }
   ],
   "source": [
    "metascore(2019)"
   ]
  }
 ],
 "metadata": {
  "kernelspec": {
   "display_name": "venv",
   "language": "python",
   "name": "python3"
  },
  "language_info": {
   "codemirror_mode": {
    "name": "ipython",
    "version": 3
   },
   "file_extension": ".py",
   "mimetype": "text/x-python",
   "name": "python",
   "nbconvert_exporter": "python",
   "pygments_lexer": "ipython3",
   "version": "3.9.12"
  },
  "orig_nbformat": 4
 },
 "nbformat": 4,
 "nbformat_minor": 2
}
