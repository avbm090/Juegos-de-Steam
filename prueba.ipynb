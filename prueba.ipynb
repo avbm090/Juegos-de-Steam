{
 "cells": [
  {
   "cell_type": "code",
   "execution_count": 62,
   "metadata": {},
   "outputs": [],
   "source": [
    "import pandas as pd\n",
    "import ast\n",
    "from fastapi import FastAPI\n",
    "import json\n",
    "import fastparquet\n",
    "\n",
    "#rows=[]\n",
    "#with open('steam_games.json', encoding='utf-8-sig') as f:\n",
    " #   for line in f.readlines():\n",
    "  #    rows.append(ast.literal_eval(line))\n",
    "\n",
    "#df=pd.DataFrame(rows)\n",
    "\n",
    "app = FastAPI()"
   ]
  },
  {
   "cell_type": "code",
   "execution_count": 63,
   "metadata": {},
   "outputs": [],
   "source": [
    "# Lee el archivo Parquet y crea un objeto DataFrame\n",
    "df = fastparquet.ParquetFile('steam_games.parquet').to_pandas()\n",
    "\n",
    "# Función para obtener los géneros más vendidos\n",
    "@app.get(\"/genero/\")\n",
    "def genero(anio: int):\n",
    "    df_filtrado = df[df['release_date'] == anio]\n",
    "    if df_filtrado.empty:\n",
    "        return {\"!\": f\"No hay datos disponibles para el año {anio}\"}\n",
    "    \n",
    "    generos_count = {}\n",
    "    for lista_generos in df_filtrado['genres']:\n",
    "        for genero_juego in lista_generos:\n",
    "            generos_count[genero_juego] = generos_count.get(genero_juego, 0) + 1\n",
    "    \n",
    "    generos_top = dict(sorted(generos_count.items(), key=lambda item: item[1], reverse=True)[:5])\n",
    "    return generos_top\n"
   ]
  },
  {
   "cell_type": "code",
   "execution_count": 70,
   "metadata": {},
   "outputs": [],
   "source": [
    "# Función para obtener los juegos lanzados en un año\n",
    "@app.get(\"/juegos/\")\n",
    "def juegos(anio: int):\n",
    "   # Filtrar el DataFrame por el año deseado\n",
    "    df_filtrado = df[df['release_date'] == anio]\n",
    "    if df_filtrado.empty:\n",
    "        return {\"!\": f\"No hay datos disponibles para el año {anio}\"}\n",
    "    \n",
    "    return df_filtrado[\"title\"].unique()"
   ]
  },
  {
   "cell_type": "code",
   "execution_count": 71,
   "metadata": {},
   "outputs": [
    {
     "data": {
      "text/plain": [
       "array(['Raji: An Ancient Epic',\n",
       "       'The Legendary Player - Make Your Reputation - OPEN BETA',\n",
       "       'The End of an Age: Fading Remnants'], dtype=object)"
      ]
     },
     "execution_count": 71,
     "metadata": {},
     "output_type": "execute_result"
    }
   ],
   "source": [
    "juegos(2019)"
   ]
  },
  {
   "cell_type": "code",
   "execution_count": 73,
   "metadata": {},
   "outputs": [],
   "source": [
    "# Función para obtener los specs más repetidos\n",
    "@app.get(\"/specs/\")\n",
    "def specs(anio: int):\n",
    "    df_filtrado = df[df['release_date'] == anio]\n",
    "    if df_filtrado.empty:\n",
    "        return {\"!\": f\"No hay datos disponibles para el año {anio}\"}\n",
    "    \n",
    "    specs_count = {}\n",
    "    for lista_specs in df_filtrado['specs']:\n",
    "        if lista_specs is not None:\n",
    "            for spec in lista_specs:\n",
    "                specs_count[spec] = specs_count.get(spec, 0) + 1\n",
    "    \n",
    "    top_specs = dict(sorted(specs_count.items(), key=lambda item: item[1], reverse=True)[:5])\n",
    "    return {\"top_specs\": list(top_specs.keys())}\n"
   ]
  },
  {
   "cell_type": "code",
   "execution_count": 74,
   "metadata": {},
   "outputs": [
    {
     "data": {
      "text/plain": [
       "{'top_specs': ['Single-player',\n",
       "  'Steam Achievements',\n",
       "  'Steam Cloud',\n",
       "  'Full controller support',\n",
       "  'Steam Trading Cards']}"
      ]
     },
     "execution_count": 74,
     "metadata": {},
     "output_type": "execute_result"
    }
   ],
   "source": [
    "specs(2018)"
   ]
  },
  {
   "cell_type": "code",
   "execution_count": 77,
   "metadata": {},
   "outputs": [],
   "source": [
    "# Función para obtener la cantidad de juegos lanzados en un año con early access\n",
    "@app.get(\"/earlyacces/\")\n",
    "def earlyacces(anio: int):\n",
    "    df_filtrado = df[df['release_date'] == anio]\n",
    "    if df_filtrado.empty:\n",
    "        return {\"!\": f\"No hay datos disponibles para el año {anio}\"}\n",
    "    frecuencias=df_filtrado[\"early_access\"].sum()\n",
    "    \n",
    "    return frecuencias"
   ]
  },
  {
   "cell_type": "code",
   "execution_count": 78,
   "metadata": {},
   "outputs": [
    {
     "data": {
      "text/plain": [
       "224"
      ]
     },
     "execution_count": 78,
     "metadata": {},
     "output_type": "execute_result"
    }
   ],
   "source": [
    "earlyacces(2015)"
   ]
  },
  {
   "cell_type": "code",
   "execution_count": 81,
   "metadata": {},
   "outputs": [],
   "source": [
    "# Función para obtener el análisis de sentimiento\n",
    "\n",
    "@app.get(\"/sentiment/\")\n",
    "def sentiment(anio: int):\n",
    "    df_filtrado = df[df['release_date'] == anio]\n",
    "    if df_filtrado.empty:\n",
    "        return {\"!\": f\"No hay datos disponibles para el año {anio}\"}\n",
    "    frecuencia=df_filtrado[\"sentiment\"].value_counts().to_dict()\n",
    "    return frecuencia\n"
   ]
  },
  {
   "cell_type": "code",
   "execution_count": 82,
   "metadata": {},
   "outputs": [
    {
     "data": {
      "text/plain": [
       "{'Mixed': 828,\n",
       " 'sin_calificar': 801,\n",
       " 'Very Positive': 656,\n",
       " 'Positive': 534,\n",
       " 'Mostly Positive': 494,\n",
       " '1 user reviews': 332,\n",
       " '2 user reviews': 264,\n",
       " '3 user reviews': 173,\n",
       " 'Mostly Negative': 164,\n",
       " '4 user reviews': 129,\n",
       " '6 user reviews': 120,\n",
       " '5 user reviews': 119,\n",
       " '8 user reviews': 86,\n",
       " '7 user reviews': 81,\n",
       " '9 user reviews': 77,\n",
       " 'Overwhelmingly Positive': 53,\n",
       " 'Negative': 31,\n",
       " 'Very Negative': 2,\n",
       " 'Overwhelmingly Negative': 1}"
      ]
     },
     "execution_count": 82,
     "metadata": {},
     "output_type": "execute_result"
    }
   ],
   "source": [
    "sentiment(2015)"
   ]
  },
  {
   "cell_type": "code",
   "execution_count": null,
   "metadata": {},
   "outputs": [],
   "source": [
    "# Función para obtener los juegos top 5 con mayor metascore\n",
    "@app.get(\"/metascore/\")\n",
    "def metascore(anio: int):\n",
    "    # Filtrar el DataFrame por el año proporcionado\n",
    "    df_anio = df[df[\"release_date\"].dt.year == anio]\n",
    "\n",
    "    # Eliminar duplicados basados en la columna \"title\"\n",
    "    juegos_unicos = df_anio.drop_duplicates(subset=\"title\")\n",
    "\n",
    "    # Ordenar los juegos únicos por Metascore de manera descendente\n",
    "    juegos_ordenados = juegos_unicos.sort_values(by=\"metascore\", ascending=False)\n",
    "\n",
    "    # Tomar los 5 juegos top con los Metascores más altos\n",
    "    top_juegos = juegos_ordenados.head(5)\n",
    "\n",
    "    # Crear una lista de diccionarios con la información de los juegos top\n",
    "    juegos_top = top_juegos[[\"title\", \"metascore\"]].to_dict(orient=\"records\")\n",
    "\n",
    "    return juegos_top"
   ]
  },
  {
   "cell_type": "code",
   "execution_count": null,
   "metadata": {},
   "outputs": [
    {
     "data": {
      "text/plain": [
       "[{'title': 'Grand Theft Auto V', 'metascore': 96.0},\n",
       " {'title': 'Divinity: Original Sin - Enhanced Edition', 'metascore': 94.0},\n",
       " {'title': 'Undertale', 'metascore': 92.0},\n",
       " {'title': 'METAL GEAR SOLID V: THE PHANTOM PAIN', 'metascore': 91.0},\n",
       " {'title': 'Pillars of Eternity', 'metascore': 89.0}]"
      ]
     },
     "execution_count": 58,
     "metadata": {},
     "output_type": "execute_result"
    }
   ],
   "source": [
    "metascore(2015)"
   ]
  }
 ],
 "metadata": {
  "kernelspec": {
   "display_name": "venv",
   "language": "python",
   "name": "python3"
  },
  "language_info": {
   "codemirror_mode": {
    "name": "ipython",
    "version": 3
   },
   "file_extension": ".py",
   "mimetype": "text/x-python",
   "name": "python",
   "nbconvert_exporter": "python",
   "pygments_lexer": "ipython3",
   "version": "3.9.12"
  },
  "orig_nbformat": 4
 },
 "nbformat": 4,
 "nbformat_minor": 2
}
